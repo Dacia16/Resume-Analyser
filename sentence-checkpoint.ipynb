{
 "cells": [
  {
   "cell_type": "code",
   "execution_count": 1,
   "metadata": {},
   "outputs": [],
   "source": [
    "from bs4 import BeautifulSoup\n",
    "import os.path,os\n",
    "import io\n",
    "import string, re\n",
    "\n",
    "import spacy\n",
    "nlp = spacy.load('en_core_web_sm')\n"
   ]
  },
  {
   "cell_type": "code",
   "execution_count": 2,
   "metadata": {},
   "outputs": [],
   "source": [
    "def retrieve_sent(PATH):\n",
    "    \n",
    "    \n",
    "    file = open(os.path.join(PATH,'sentences.txt'),'w',encoding=\"utf-8\")\n",
    "    print(os.path.join(PATH,'sentences.txt'))\n",
    "    \n",
    "    with open(os.path.join(PATH,'paras.txt'),'r' ,encoding=\"utf-8\") as obj:\n",
    "        #read the file line-by-line\n",
    "        for each_line in obj:\n",
    "            if each_line != '\\n' and each_line.strip().startswith('<p>'):\n",
    "                try:\n",
    "                    #extract tagless paragraph-text from <p> tags.\n",
    "                    soup = BeautifulSoup(each_line.strip(),\"lxml\")\n",
    "                    \n",
    "                    #divide this tagless paragraphs into proper sentences using NLP via spacy.\n",
    "                    document = nlp(soup.p.text)\n",
    "                except:\n",
    "                    #If the line can't be parsed then log the line and continue to next line.\n",
    "                    \n",
    "                    continue\n",
    "                    \n",
    "                #If parsed then write each sentence in the file 'sentences.txt'.\n",
    "                for each in document.sents:\n",
    "                    text = each.text+'\\n'\n",
    "                    file.write(each.text+'\\n')\n",
    "                    \n",
    "    file.close()"
   ]
  },
  {
   "cell_type": "code",
   "execution_count": 3,
   "metadata": {
    "scrolled": false
   },
   "outputs": [
    {
     "name": "stdout",
     "output_type": "stream",
     "text": [
      "C:/Users/Prithika/nlp project/dump\\blender.meta.stackexchange.com\\sentences.txt\n"
     ]
    }
   ],
   "source": [
    "directory = os.listdir('C:/Users/Prithika/nlp project/dump')\n",
    "#print len(directory)\n",
    "for each in directory:\n",
    "    if each == '.DS_Store':\n",
    "        continue\n",
    "    PATH = os.path.join('C:/Users/Prithika/nlp project/dump',each)\n",
    "    \n",
    "    retrieve_sent(PATH)\n",
    "    "
   ]
  },
  {
   "cell_type": "code",
   "execution_count": null,
   "metadata": {},
   "outputs": [],
   "source": []
  },
  {
   "cell_type": "code",
   "execution_count": null,
   "metadata": {},
   "outputs": [],
   "source": []
  },
  {
   "cell_type": "code",
   "execution_count": null,
   "metadata": {},
   "outputs": [],
   "source": []
  },
  {
   "cell_type": "code",
   "execution_count": null,
   "metadata": {},
   "outputs": [],
   "source": []
  },
  {
   "cell_type": "code",
   "execution_count": null,
   "metadata": {},
   "outputs": [],
   "source": []
  }
 ],
 "metadata": {
  "kernelspec": {
   "display_name": "Python 3",
   "language": "python",
   "name": "python3"
  },
  "language_info": {
   "codemirror_mode": {
    "name": "ipython",
    "version": 3
   },
   "file_extension": ".py",
   "mimetype": "text/x-python",
   "name": "python",
   "nbconvert_exporter": "python",
   "pygments_lexer": "ipython3",
   "version": "3.7.4"
  }
 },
 "nbformat": 4,
 "nbformat_minor": 2
}
